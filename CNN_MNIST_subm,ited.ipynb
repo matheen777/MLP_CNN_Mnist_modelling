{
 "cells": [
  {
   "cell_type": "code",
   "execution_count": 0,
   "metadata": {
    "colab": {},
    "colab_type": "code",
    "id": "25Voe7hUWqJC"
   },
   "outputs": [],
   "source": [
    "# Credits: https://github.com/keras-team/keras/blob/master/examples/mnist_cnn.py\n",
    "\n",
    "from __future__ import print_function\n",
    "import keras\n",
    "from keras.datasets import mnist\n",
    "from keras.models import Sequential\n",
    "from keras.layers import Dense, Dropout, Flatten\n",
    "from keras.layers import Conv2D, MaxPooling2D\n",
    "from keras import backend as K"
   ]
  },
  {
   "cell_type": "code",
   "execution_count": 0,
   "metadata": {
    "colab": {},
    "colab_type": "code",
    "id": "n8F5nnPNXLW9"
   },
   "outputs": [],
   "source": [
    "from keras.initializers import RandomNormal\n",
    "from keras.models import Sequential \n",
    "from keras.layers import Dense, Activation \n",
    "from keras.layers.normalization import BatchNormalization\n",
    "from keras.layers import Dropout"
   ]
  },
  {
   "cell_type": "code",
   "execution_count": 0,
   "metadata": {
    "colab": {},
    "colab_type": "code",
    "id": "K_6rwaL3WqJK"
   },
   "outputs": [],
   "source": [
    "%matplotlib inline\n",
    "import matplotlib.pyplot as plt\n",
    "import numpy as np\n",
    "import time\n",
    "\n",
    "def plt_dynamic(x, vy, ty, ax, colors=['b']):\n",
    "    ax.plot(x, vy, 'b', label=\"Validation Loss\")\n",
    "    ax.plot(x, ty, 'r', label=\"Train Loss\")\n",
    "    plt.legend()\n",
    "    plt.grid()\n",
    "    fig.canvas.draw()"
   ]
  },
  {
   "cell_type": "code",
   "execution_count": 0,
   "metadata": {
    "colab": {
     "base_uri": "https://localhost:8080/",
     "height": 102
    },
    "colab_type": "code",
    "id": "9dnLAYSjWqJO",
    "outputId": "5eb28727-d68e-448e-edd2-d3a167c2356c"
   },
   "outputs": [
    {
     "name": "stdout",
     "output_type": "stream",
     "text": [
      "Downloading data from https://s3.amazonaws.com/img-datasets/mnist.npz\n",
      "11493376/11490434 [==============================] - 1s 0us/step\n",
      "x_train shape: (60000, 28, 28, 1)\n",
      "60000 train samples\n",
      "10000 test samples\n"
     ]
    }
   ],
   "source": [
    "batch_size = 128\n",
    "num_classes = 10\n",
    "epochs = 12\n",
    "\n",
    "# input image dimensions\n",
    "img_rows, img_cols = 28, 28\n",
    "\n",
    "# the data, split between train and test sets\n",
    "(x_train, y_train), (x_test, y_test) = mnist.load_data()\n",
    "\n",
    "if K.image_data_format() == 'channels_first':\n",
    "    x_train = x_train.reshape(x_train.shape[0], 1, img_rows, img_cols)\n",
    "    x_test = x_test.reshape(x_test.shape[0], 1, img_rows, img_cols)\n",
    "    input_shape = (1, img_rows, img_cols)\n",
    "else:\n",
    "    x_train = x_train.reshape(x_train.shape[0], img_rows, img_cols, 1)\n",
    "    x_test = x_test.reshape(x_test.shape[0], img_rows, img_cols, 1)\n",
    "    input_shape = (img_rows, img_cols, 1)\n",
    "\n",
    "x_train = x_train.astype('float32')\n",
    "x_test = x_test.astype('float32')\n",
    "x_train /= 255\n",
    "x_test /= 255\n",
    "print('x_train shape:', x_train.shape)\n",
    "print(x_train.shape[0], 'train samples')\n",
    "print(x_test.shape[0], 'test samples')\n",
    "\n",
    "# convert class vectors to binary class matrices\n",
    "y_train = keras.utils.to_categorical(y_train, num_classes)\n",
    "y_test = keras.utils.to_categorical(y_test, num_classes)"
   ]
  },
  {
   "cell_type": "code",
   "execution_count": 0,
   "metadata": {
    "colab": {
     "base_uri": "https://localhost:8080/",
     "height": 298
    },
    "colab_type": "code",
    "id": "62qqgDx3V8WG",
    "outputId": "f696192f-2dba-402e-d4a7-b8f296e962e3"
   },
   "outputs": [
    {
     "data": {
      "text/plain": [
       "Text(0.5, 1.0, '5')"
      ]
     },
     "execution_count": 6,
     "metadata": {
      "tags": []
     },
     "output_type": "execute_result"
    },
    {
     "data": {
      "image/png": "[encoded data removed]",
      "text/plain": [
       "<Figure size 432x288 with 1 Axes>"
      ]
     },
     "metadata": {
      "tags": []
     },
     "output_type": "display_data"
    }
   ],
   "source": [
    "(XX_train, yy_train), (XX_test, yy_test) = mnist.load_data()\n",
    "plt.imshow(XX_train[0], cmap='gray')\n",
    "plt.title(yy_train[0])"
   ]
  },
  {
   "cell_type": "markdown",
   "metadata": {
    "colab_type": "text",
    "id": "FlutEiPbWqJT"
   },
   "source": [
    "<h2> 1. CNN + Dropout + AdadeltaOptimizer </h2>"
   ]
  },
  {
   "cell_type": "code",
   "execution_count": 0,
   "metadata": {
    "colab": {
     "base_uri": "https://localhost:8080/",
     "height": 1000
    },
    "colab_type": "code",
    "id": "H9EU0e8yzFOm",
    "outputId": "18dce804-8538-4894-fbb9-8007ef8c692a",
    "scrolled": true
   },
   "outputs": [
    {
     "name": "stdout",
     "output_type": "stream",
     "text": [
      "WARNING:tensorflow:From /usr/local/lib/python3.6/dist-packages/keras/backend/tensorflow_backend.py:66: The name tf.get_default_graph is deprecated. Please use tf.compat.v1.get_default_graph instead.\n",
      "\n",
      "WARNING:tensorflow:From /usr/local/lib/python3.6/dist-packages/keras/backend/tensorflow_backend.py:541: The name tf.placeholder is deprecated. Please use tf.compat.v1.placeholder instead.\n",
      "\n",
      "WARNING:tensorflow:From /usr/local/lib/python3.6/dist-packages/keras/backend/tensorflow_backend.py:4432: The name tf.random_uniform is deprecated. Please use tf.random.uniform instead.\n",
      "\n",
      "WARNING:tensorflow:From /usr/local/lib/python3.6/dist-packages/keras/backend/tensorflow_backend.py:4267: The name tf.nn.max_pool is deprecated. Please use tf.nn.max_pool2d instead.\n",
      "\n",
      "WARNING:tensorflow:From /usr/local/lib/python3.6/dist-packages/keras/backend/tensorflow_backend.py:148: The name tf.placeholder_with_default is deprecated. Please use tf.compat.v1.placeholder_with_default instead.\n",
      "\n",
      "WARNING:tensorflow:From /usr/local/lib/python3.6/dist-packages/keras/backend/tensorflow_backend.py:3733: calling dropout (from tensorflow.python.ops.nn_ops) with keep_prob is deprecated and will be removed in a future version.\n",
      "Instructions for updating:\n",
      "Please use `rate` instead of `keep_prob`. Rate should be set to `rate = 1 - keep_prob`.\n",
      "WARNING:tensorflow:From /usr/local/lib/python3.6/dist-packages/keras/optimizers.py:793: The name tf.train.Optimizer is deprecated. Please use tf.compat.v1.train.Optimizer instead.\n",
      "\n",
      "WARNING:tensorflow:From /usr/local/lib/python3.6/dist-packages/keras/backend/tensorflow_backend.py:3576: The name tf.log is deprecated. Please use tf.math.log instead.\n",
      "\n",
      "WARNING:tensorflow:From /usr/local/lib/python3.6/dist-packages/tensorflow_core/python/ops/math_grad.py:1424: where (from tensorflow.python.ops.array_ops) is deprecated and will be removed in a future version.\n",
      "Instructions for updating:\n",
      "Use tf.where in 2.0, which has the same broadcast rule as np.where\n",
      "WARNING:tensorflow:From /usr/local/lib/python3.6/dist-packages/keras/backend/tensorflow_backend.py:1033: The name tf.assign_add is deprecated. Please use tf.compat.v1.assign_add instead.\n",
      "\n",
      "WARNING:tensorflow:From /usr/local/lib/python3.6/dist-packages/keras/backend/tensorflow_backend.py:1020: The name tf.assign is deprecated. Please use tf.compat.v1.assign instead.\n",
      "\n",
      "WARNING:tensorflow:From /usr/local/lib/python3.6/dist-packages/keras/backend/tensorflow_backend.py:3005: The name tf.Session is deprecated. Please use tf.compat.v1.Session instead.\n",
      "\n",
      "Train on 60000 samples, validate on 10000 samples\n",
      "Epoch 1/12\n",
      "WARNING:tensorflow:From /usr/local/lib/python3.6/dist-packages/keras/backend/tensorflow_backend.py:190: The name tf.get_default_session is deprecated. Please use tf.compat.v1.get_default_session instead.\n",
      "\n",
      "WARNING:tensorflow:From /usr/local/lib/python3.6/dist-packages/keras/backend/tensorflow_backend.py:197: The name tf.ConfigProto is deprecated. Please use tf.compat.v1.ConfigProto instead.\n",
      "\n",
      "WARNING:tensorflow:From /usr/local/lib/python3.6/dist-packages/keras/backend/tensorflow_backend.py:207: The name tf.global_variables is deprecated. Please use tf.compat.v1.global_variables instead.\n",
      "\n",
      "WARNING:tensorflow:From /usr/local/lib/python3.6/dist-packages/keras/backend/tensorflow_backend.py:216: The name tf.is_variable_initialized is deprecated. Please use tf.compat.v1.is_variable_initialized instead.\n",
      "\n",
      "WARNING:tensorflow:From /usr/local/lib/python3.6/dist-packages/keras/backend/tensorflow_backend.py:223: The name tf.variables_initializer is deprecated. Please use tf.compat.v1.variables_initializer instead.\n",
      "\n",
      "60000/60000 [==============================] - 136s 2ms/step - loss: 0.2664 - acc: 0.9167 - val_loss: 0.0602 - val_acc: 0.9805\n",
      "Epoch 2/12\n",
      "60000/60000 [==============================] - 135s 2ms/step - loss: 0.0860 - acc: 0.9744 - val_loss: 0.0408 - val_acc: 0.9859\n",
      "Epoch 3/12\n",
      "60000/60000 [==============================] - 135s 2ms/step - loss: 0.0665 - acc: 0.9808 - val_loss: 0.0345 - val_acc: 0.9879\n",
      "Epoch 4/12\n",
      "60000/60000 [==============================] - 134s 2ms/step - loss: 0.0543 - acc: 0.9841 - val_loss: 0.0336 - val_acc: 0.9892\n",
      "Epoch 5/12\n",
      "60000/60000 [==============================] - 134s 2ms/step - loss: 0.0466 - acc: 0.9859 - val_loss: 0.0326 - val_acc: 0.9893\n",
      "Epoch 6/12\n",
      "60000/60000 [==============================] - 135s 2ms/step - loss: 0.0414 - acc: 0.9875 - val_loss: 0.0323 - val_acc: 0.9895\n",
      "Epoch 7/12\n",
      "60000/60000 [==============================] - 134s 2ms/step - loss: 0.0377 - acc: 0.9889 - val_loss: 0.0289 - val_acc: 0.9911\n",
      "Epoch 8/12\n",
      "60000/60000 [==============================] - 135s 2ms/step - loss: 0.0342 - acc: 0.9890 - val_loss: 0.0270 - val_acc: 0.9912\n",
      "Epoch 9/12\n",
      "60000/60000 [==============================] - 135s 2ms/step - loss: 0.0319 - acc: 0.9901 - val_loss: 0.0275 - val_acc: 0.9905\n",
      "Epoch 10/12\n",
      "60000/60000 [==============================] - 134s 2ms/step - loss: 0.0294 - acc: 0.9905 - val_loss: 0.0263 - val_acc: 0.9922\n",
      "Epoch 11/12\n",
      "60000/60000 [==============================] - 135s 2ms/step - loss: 0.0272 - acc: 0.9916 - val_loss: 0.0291 - val_acc: 0.9915\n",
      "Epoch 12/12\n",
      "60000/60000 [==============================] - 135s 2ms/step - loss: 0.0260 - acc: 0.9916 - val_loss: 0.0259 - val_acc: 0.9915\n",
      "Test loss: 0.025941494069554757\n",
      "Test accuracy: 0.9915\n"
     ]
    },
    {
     "data": {
      "image/png": "[encoded data removed]",
      "text/plain": [
       "<Figure size 432x288 with 1 Axes>"
      ]
     },
     "metadata": {
      "tags": []
     },
     "output_type": "display_data"
    }
   ],
   "source": [
    "model = Sequential()\n",
    "model.add(Conv2D(32, kernel_size=(3, 3),activation='relu',input_shape=input_shape))\n",
    "model.add(Conv2D(64, (3, 3), activation='relu'))\n",
    "model.add(MaxPooling2D(pool_size=(2, 2)))\n",
    "model.add(Dropout(0.25))\n",
    "model.add(Flatten())\n",
    "model.add(Dense(128, activation='relu'))\n",
    "model.add(Dropout(0.5))\n",
    "\n",
    "model.add(Dense(num_classes, activation='softmax'))\n",
    "\n",
    "model.compile(loss=keras.losses.categorical_crossentropy,\\\n",
    "              optimizer=keras.optimizers.Adadelta(),\\\n",
    "              metrics=['accuracy'])\n",
    "history=model.fit(x_train, y_train,batch_size=batch_size,epochs=epochs,verbose=1,validation_data=(x_test, y_test))\n",
    "score = model.evaluate(x_test, y_test, verbose=0)\n",
    "print('Test loss:', score[0])\n",
    "print('Test accuracy:', score[1])\n",
    "\n",
    "fig,ax = plt.subplots(1,1)\n",
    "ax.set_xlabel('epoch') \n",
    "ax.set_ylabel('Categorical Crossentropy Loss')\n",
    "\n",
    "# list of epoch numbers\n",
    "x = list(range(1,epochs+1))\n",
    "vy = history.history['val_loss']\n",
    "ty = history.history['loss']\n",
    "plt_dynamic(x, vy, ty, ax)"
   ]
  },
  {
   "cell_type": "markdown",
   "metadata": {
    "colab_type": "text",
    "id": "noS2xYHcWqJX"
   },
   "source": [
    "<h2> 2. CNN + Batch Normalization +Dropout + AdamOptimizer </h2>"
   ]
  },
  {
   "cell_type": "code",
   "execution_count": 0,
   "metadata": {
    "colab": {
     "base_uri": "https://localhost:8080/",
     "height": 34
    },
    "colab_type": "code",
    "id": "y7G0twtZSaez",
    "outputId": "c26cbe8f-a6f4-4051-c457-d7dcbe0f2aaa"
   },
   "outputs": [
    {
     "data": {
      "text/plain": [
       "(28, 28, 1)"
      ]
     },
     "execution_count": 7,
     "metadata": {
      "tags": []
     },
     "output_type": "execute_result"
    }
   ],
   "source": [
    "input_shape"
   ]
  },
  {
   "cell_type": "code",
   "execution_count": 0,
   "metadata": {
    "colab": {
     "base_uri": "https://localhost:8080/",
     "height": 738
    },
    "colab_type": "code",
    "id": "mASlQMdNWqJY",
    "outputId": "d6faa2a0-fed9-4397-d66a-e60005a2aa7f"
   },
   "outputs": [
    {
     "name": "stdout",
     "output_type": "stream",
     "text": [
      "Train on 60000 samples, validate on 10000 samples\n",
      "Epoch 1/12\n",
      "60000/60000 [==============================] - 652s 11ms/step - loss: 1.4910 - acc: 0.4760 - val_loss: 0.2137 - val_acc: 0.9322\n",
      "Epoch 2/12\n",
      "60000/60000 [==============================] - 648s 11ms/step - loss: 0.3576 - acc: 0.8902 - val_loss: 0.1047 - val_acc: 0.9694\n",
      "Epoch 3/12\n",
      "60000/60000 [==============================] - 647s 11ms/step - loss: 0.1948 - acc: 0.9431 - val_loss: 0.0763 - val_acc: 0.9782\n",
      "Epoch 4/12\n",
      "60000/60000 [==============================] - 644s 11ms/step - loss: 0.1412 - acc: 0.9597 - val_loss: 0.0518 - val_acc: 0.9850\n",
      "Epoch 5/12\n",
      "60000/60000 [==============================] - 649s 11ms/step - loss: 0.1134 - acc: 0.9682 - val_loss: 0.0444 - val_acc: 0.9868\n",
      "Epoch 6/12\n",
      "60000/60000 [==============================] - 664s 11ms/step - loss: 0.0959 - acc: 0.9733 - val_loss: 0.0454 - val_acc: 0.9871\n",
      "Epoch 7/12\n",
      "60000/60000 [==============================] - 648s 11ms/step - loss: 0.0817 - acc: 0.9772 - val_loss: 0.0357 - val_acc: 0.9904\n",
      "Epoch 8/12\n",
      "60000/60000 [==============================] - 648s 11ms/step - loss: 0.0697 - acc: 0.9800 - val_loss: 0.0319 - val_acc: 0.9907\n",
      "Epoch 9/12\n",
      "60000/60000 [==============================] - 651s 11ms/step - loss: 0.0624 - acc: 0.9817 - val_loss: 0.0336 - val_acc: 0.9905\n",
      "Epoch 10/12\n",
      "60000/60000 [==============================] - 654s 11ms/step - loss: 0.0555 - acc: 0.9844 - val_loss: 0.0284 - val_acc: 0.9914\n",
      "Epoch 11/12\n",
      "60000/60000 [==============================] - 657s 11ms/step - loss: 0.0529 - acc: 0.9846 - val_loss: 0.0354 - val_acc: 0.9906\n",
      "Epoch 12/12\n",
      "60000/60000 [==============================] - 655s 11ms/step - loss: 0.0455 - acc: 0.9871 - val_loss: 0.0371 - val_acc: 0.9898\n",
      "Test loss: 0.03711636938511474\n",
      "Test accuracy: 0.9898\n"
     ]
    },
    {
     "data": {
      "image/png": "[encoded data removed]",
      "text/plain": [
       "<Figure size 432x288 with 1 Axes>"
      ]
     },
     "metadata": {
      "tags": []
     },
     "output_type": "display_data"
    }
   ],
   "source": [
    "model2 = Sequential()\n",
    "model2.add(Conv2D(32, kernel_size=(5,5),activation='relu',input_shape=(28,28,1),\\\n",
    "                 kernel_initializer=RandomNormal(mean=0.0, stddev=0.55, seed=None),padding='same'))\n",
    "model2.add(BatchNormalization())\n",
    "model2.add(Conv2D(64, (5,5), activation='relu',kernel_initializer=RandomNormal(mean=0.0, stddev=0.55, seed=None),padding='same'))\n",
    "model2.add(BatchNormalization())\n",
    "model2.add(MaxPooling2D(pool_size=(5,5),padding='same'))\n",
    "model2.add(Dropout(0.25))\n",
    "\n",
    "model2.add(Conv2D(72, (5,5), activation='relu',kernel_initializer=RandomNormal(mean=0.0, stddev=0.55, seed=None),padding='same'))\n",
    "model2.add(BatchNormalization())\n",
    "model2.add(Conv2D(84, (5,5), activation='relu',kernel_initializer=RandomNormal(mean=0.0, stddev=0.55, seed=None),padding='same'))\n",
    "model2.add(BatchNormalization())\n",
    "model2.add(MaxPooling2D(pool_size=(5,5),padding='same'))\n",
    "model2.add(Dropout(0.25))\n",
    "\n",
    "model2.add(Conv2D(97, (5,5), activation='relu',kernel_initializer=RandomNormal(mean=0.0, stddev=0.55, seed=None),padding='same'))\n",
    "model2.add(BatchNormalization())\n",
    "model2.add(MaxPooling2D(pool_size=(5,5),padding='same'))\n",
    "model2.add(Dropout(0.25))\n",
    "model2.add(Flatten())\n",
    "model2.add(Dense(128, activation='relu'))\n",
    "model2.add(Dropout(0.5))\n",
    "\n",
    "model2.add(Dense(num_classes, activation='softmax'))\n",
    "\n",
    "model2.compile(loss=keras.losses.categorical_crossentropy,\\\n",
    "              optimizer=keras.optimizers.Adam(),\\\n",
    "              metrics=['accuracy'])\n",
    "history=model2.fit(x_train, y_train,batch_size=batch_size,epochs=epochs,verbose=1,validation_data=(x_test, y_test))\n",
    "score = model2.evaluate(x_test, y_test, verbose=0)\n",
    "print('Test loss:', score[0])\n",
    "print('Test accuracy:', score[1])\n",
    "\n",
    "fig,ax = plt.subplots(1,1)\n",
    "ax.set_xlabel('epoch')\n",
    "ax.set_ylabel('Categorical Crossentropy Loss')\n",
    "\n",
    "# list of epoch numbers\n",
    "x = list(range(1,epochs+1))\n",
    "vy = history.history['val_loss']\n",
    "ty = history.history['loss']\n",
    "plt_dynamic(x, vy, ty, ax)"
   ]
  },
  {
   "cell_type": "markdown",
   "metadata": {
    "colab_type": "text",
    "id": "x0SJpjpiWqJa"
   },
   "source": [
    "<h2> 3. CNN + Batch Normalization +Dropout+ Padding + stride + AdamOptimizer </h2>"
   ]
  },
  {
   "cell_type": "code",
   "execution_count": 0,
   "metadata": {
    "colab": {},
    "colab_type": "code",
    "id": "uR0Shxb204Hg"
   },
   "outputs": [],
   "source": [
    "from keras.initializers import TruncatedNormal,VarianceScaling, glorot_normal,he_uniform,lecun_uniform"
   ]
  },
  {
   "cell_type": "code",
   "execution_count": 0,
   "metadata": {
    "colab": {
     "base_uri": "https://localhost:8080/",
     "height": 738
    },
    "colab_type": "code",
    "id": "Y7p4eAg9WqJb",
    "outputId": "328a5a26-c6b3-4818-beb6-0eeb2ef96723"
   },
   "outputs": [
    {
     "name": "stdout",
     "output_type": "stream",
     "text": [
      "Train on 60000 samples, validate on 10000 samples\n",
      "Epoch 1/12\n",
      "60000/60000 [==============================] - 72s 1ms/step - loss: 10.6630 - acc: 0.1321 - val_loss: 14.1663 - val_acc: 0.1135\n",
      "Epoch 2/12\n",
      "60000/60000 [==============================] - 68s 1ms/step - loss: 10.6859 - acc: 0.1588 - val_loss: 14.4902 - val_acc: 0.1010\n",
      "Epoch 3/12\n",
      "60000/60000 [==============================] - 67s 1ms/step - loss: 14.5260 - acc: 0.0985 - val_loss: 14.5482 - val_acc: 0.0974\n",
      "Epoch 4/12\n",
      "60000/60000 [==============================] - 67s 1ms/step - loss: 14.5367 - acc: 0.0981 - val_loss: 14.5482 - val_acc: 0.0974\n",
      "Epoch 5/12\n",
      "60000/60000 [==============================] - 67s 1ms/step - loss: 14.5354 - acc: 0.0980 - val_loss: 14.5482 - val_acc: 0.0974\n",
      "Epoch 6/12\n",
      "60000/60000 [==============================] - 67s 1ms/step - loss: 14.5365 - acc: 0.0974 - val_loss: 14.5482 - val_acc: 0.0974\n",
      "Epoch 7/12\n",
      "60000/60000 [==============================] - 67s 1ms/step - loss: 14.5344 - acc: 0.0976 - val_loss: 14.5482 - val_acc: 0.0974\n",
      "Epoch 8/12\n",
      "60000/60000 [==============================] - 67s 1ms/step - loss: 14.5346 - acc: 0.0976 - val_loss: 14.5482 - val_acc: 0.0974\n",
      "Epoch 9/12\n",
      "60000/60000 [==============================] - 68s 1ms/step - loss: 14.5324 - acc: 0.0976 - val_loss: 14.5482 - val_acc: 0.0974\n",
      "Epoch 10/12\n",
      "60000/60000 [==============================] - 67s 1ms/step - loss: 14.5347 - acc: 0.0976 - val_loss: 14.5482 - val_acc: 0.0974\n",
      "Epoch 11/12\n",
      "60000/60000 [==============================] - 68s 1ms/step - loss: 14.5317 - acc: 0.0976 - val_loss: 14.5482 - val_acc: 0.0974\n",
      "Epoch 12/12\n",
      "60000/60000 [==============================] - 68s 1ms/step - loss: 14.5296 - acc: 0.0977 - val_loss: 14.5482 - val_acc: 0.0974\n",
      "Test loss: 14.54819266052246\n",
      "Test accuracy: 0.0974\n"
     ]
    },
    {
     "data": {
      "image/png": "[encoded data removed]",
      "text/plain": [
       "<Figure size 432x288 with 1 Axes>"
      ]
     },
     "metadata": {
      "tags": []
     },
     "output_type": "display_data"
    }
   ],
   "source": [
    "model3 = Sequential()\n",
    "model3.add(Conv2D(32, kernel_size=(7, 7),activation='relu',input_shape=input_shape,\\\n",
    "                 kernel_initializer=RandomNormal(mean=0.0, stddev=0.55, seed=None),padding='same'))\n",
    "model3.add(BatchNormalization())\n",
    "model3.add(Conv2D(64, (7, 7), activation='selu',kernel_initializer=TruncatedNormal(seed=None),padding='same'))\n",
    "model3.add(BatchNormalization())\n",
    "model3.add(Conv2D(72, (7, 7), activation='exponential',kernel_initializer=glorot_normal(seed=None),padding='same'))\n",
    "model3.add(BatchNormalization())\n",
    "model3.add(MaxPooling2D(pool_size=(7,7),strides=(1,1),padding='same'))\n",
    "model3.add(Dropout(0.25))\n",
    "\n",
    "model3.add(Conv2D(84, (7, 7), activation='tanh',kernel_initializer=VarianceScaling(scale=1.0, mode='fan_avg', distribution='normal', seed=None),padding='same'))\n",
    "model3.add(BatchNormalization())\n",
    "model3.add(Conv2D(92, (7, 7), activation='exponential',kernel_initializer=lecun_uniform(seed=None),padding='same'))\n",
    "model3.add(BatchNormalization())\n",
    "model3.add(Conv2D(102, (7, 7), activation='sigmoid',kernel_initializer=RandomNormal(mean=0.0, stddev=0.55, seed=None),padding='same'))\n",
    "model3.add(BatchNormalization())\n",
    "model3.add(MaxPooling2D(pool_size=(7,7),strides=(1,1),padding='same'))\n",
    "model3.add(Dropout(0.25))\n",
    "\n",
    "model3.add(Conv2D(114, (7, 7), activation='hard_sigmoid',kernel_initializer=he_uniform(seed=None),padding='same'))\n",
    "model3.add(BatchNormalization())\n",
    "model3.add(Dropout(0.5))\n",
    "model3.add(MaxPooling2D(pool_size=(7,7),strides=(1,1),padding='same'))\n",
    "model3.add(Dropout(0.25))\n",
    "model3.add(Flatten())\n",
    "model3.add(Dense(128, activation='relu'))\n",
    "model3.add(Dropout(0.5))\n",
    "\n",
    "model3.add(Dense(num_classes, activation='softmax'))\n",
    "\n",
    "model3.compile(loss=keras.losses.categorical_crossentropy,\\\n",
    "              optimizer=keras.optimizers.Adam(),\\\n",
    "              metrics=['accuracy'])\n",
    "history=model3.fit(x_train, y_train,batch_size=batch_size,epochs=epochs,verbose=1,validation_data=(x_test, y_test))\n",
    "score = model3.evaluate(x_test, y_test, verbose=0)\n",
    "print('Test loss:', score[0])\n",
    "print('Test accuracy:', score[1])\n",
    "nb_epoch=12\n",
    "fig,ax = plt.subplots(1,1)\n",
    "ax.set_xlabel('epoch') \n",
    "ax.set_ylabel('Categorical Crossentropy Loss')\n",
    "\n",
    "# list of epoch numbers\n",
    "x = list(range(1,nb_epoch+1))\n",
    "vy = history.history['val_loss']\n",
    "ty = history.history['loss']\n",
    "plt_dynamic(x, vy, ty, ax)"
   ]
  },
  {
   "cell_type": "code",
   "execution_count": 0,
   "metadata": {
    "colab": {
     "base_uri": "https://localhost:8080/",
     "height": 738
    },
    "colab_type": "code",
    "id": "SO7XwZgbiKKq",
    "outputId": "b750ff70-4fb1-4a15-f9c1-0170e49b0409"
   },
   "outputs": [
    {
     "name": "stdout",
     "output_type": "stream",
     "text": [
      "Train on 60000 samples, validate on 10000 samples\n",
      "Epoch 1/12\n",
      "60000/60000 [==============================] - 75s 1ms/step - loss: 14.4344 - acc: 0.1037 - val_loss: 13.4983 - val_acc: 0.1166\n",
      "Epoch 2/12\n",
      "60000/60000 [==============================] - 71s 1ms/step - loss: 14.4625 - acc: 0.1026 - val_loss: 14.2887 - val_acc: 0.1135\n",
      "Epoch 3/12\n",
      "60000/60000 [==============================] - 71s 1ms/step - loss: 14.0762 - acc: 0.1265 - val_loss: 14.2887 - val_acc: 0.1135\n",
      "Epoch 4/12\n",
      "60000/60000 [==============================] - 71s 1ms/step - loss: 12.7713 - acc: 0.2074 - val_loss: 14.2887 - val_acc: 0.1135\n",
      "Epoch 5/12\n",
      "60000/60000 [==============================] - 71s 1ms/step - loss: 12.3478 - acc: 0.2333 - val_loss: 14.2737 - val_acc: 0.1143\n",
      "Epoch 6/12\n",
      "60000/60000 [==============================] - 71s 1ms/step - loss: 11.0838 - acc: 0.3097 - val_loss: 14.1368 - val_acc: 0.1227\n",
      "Epoch 7/12\n",
      "60000/60000 [==============================] - 71s 1ms/step - loss: 9.2714 - acc: 0.3554 - val_loss: 14.1092 - val_acc: 0.1238\n",
      "Epoch 8/12\n",
      "60000/60000 [==============================] - 71s 1ms/step - loss: 2.3304 - acc: 0.2141 - val_loss: 14.1235 - val_acc: 0.1225\n",
      "Epoch 9/12\n",
      "60000/60000 [==============================] - 71s 1ms/step - loss: 1.9529 - acc: 0.2558 - val_loss: 13.5971 - val_acc: 0.1546\n",
      "Epoch 10/12\n",
      "60000/60000 [==============================] - 71s 1ms/step - loss: 1.8133 - acc: 0.3339 - val_loss: 14.0415 - val_acc: 0.1283\n",
      "Epoch 11/12\n",
      "60000/60000 [==============================] - 71s 1ms/step - loss: 1.6983 - acc: 0.3481 - val_loss: 13.6216 - val_acc: 0.1523\n",
      "Epoch 12/12\n",
      "60000/60000 [==============================] - 71s 1ms/step - loss: 1.6426 - acc: 0.3635 - val_loss: 12.8242 - val_acc: 0.2018\n",
      "Test loss: 12.824151998901367\n",
      "Test accuracy: 0.2018\n"
     ]
    },
    {
     "data": {
      "image/png": "[encoded data removed]",
      "text/plain": [
       "<Figure size 432x288 with 1 Axes>"
      ]
     },
     "metadata": {
      "tags": []
     },
     "output_type": "display_data"
    }
   ],
   "source": [
    "model33 = Sequential()\n",
    "model33.add(Conv2D(32, kernel_size=(7, 7),activation='relu',input_shape=input_shape,\\\n",
    "                 kernel_initializer=RandomNormal(mean=0.0, stddev=0.55, seed=None),padding='same'))\n",
    "model33.add(BatchNormalization())\n",
    "model33.add(Dropout(0.25))\n",
    "model33.add(Conv2D(64, (7, 7), activation='relu',kernel_initializer=RandomNormal(mean=0.0, stddev=0.55, seed=None),padding='same'))\n",
    "model33.add(BatchNormalization())\n",
    "model33.add(Dropout(0.25))\n",
    "model33.add(Conv2D(72, (7, 7), activation='relu',kernel_initializer=RandomNormal(mean=0.0, stddev=0.55, seed=None),padding='same'))\n",
    "model33.add(BatchNormalization())\n",
    "model33.add(Dropout(0.25))\n",
    "model33.add(MaxPooling2D(pool_size=(7,7),strides=(1,1),padding='same'))\n",
    "model33.add(Dropout(0.25))\n",
    "\n",
    "model33.add(Conv2D(84, (7, 7), activation='relu',kernel_initializer=RandomNormal(mean=0.0, stddev=0.55, seed=None),padding='same'))\n",
    "model33.add(BatchNormalization())\n",
    "model33.add(Dropout(0.25))\n",
    "model33.add(Conv2D(92, (7, 7), activation='relu',kernel_initializer=RandomNormal(mean=0.0, stddev=0.55, seed=None),padding='same'))\n",
    "model33.add(BatchNormalization())\n",
    "model33.add(Dropout(0.25))\n",
    "model33.add(Conv2D(102, (7, 7), activation='relu',kernel_initializer=RandomNormal(mean=0.0, stddev=0.55, seed=None),padding='same'))\n",
    "model33.add(BatchNormalization())\n",
    "model33.add(Dropout(0.25))\n",
    "model33.add(MaxPooling2D(pool_size=(7,7),strides=(1,1),padding='same'))\n",
    "model33.add(Dropout(0.25))\n",
    "\n",
    "model33.add(Conv2D(114, (7, 7), activation='relu',kernel_initializer=RandomNormal(mean=0.0, stddev=0.55, seed=None),padding='same'))\n",
    "model33.add(BatchNormalization())\n",
    "model33.add(Dropout(0.5))\n",
    "model33.add(MaxPooling2D(pool_size=(7,7),strides=(1,1),padding='same'))\n",
    "model33.add(Dropout(0.25))\n",
    "model33.add(Flatten())\n",
    "model33.add(Dense(128, activation='relu'))\n",
    "model33.add(Dropout(0.5))\n",
    "\n",
    "model33.add(Dense(num_classes, activation='softmax'))\n",
    "\n",
    "model33.compile(loss=keras.losses.categorical_crossentropy,\\\n",
    "              optimizer=keras.optimizers.Adam(),\\\n",
    "              metrics=['accuracy'])\n",
    "history=model33.fit(x_train, y_train,batch_size=batch_size,epochs=epochs,verbose=1,validation_data=(x_test, y_test))\n",
    "score = model33.evaluate(x_test, y_test, verbose=0)\n",
    "print('Test loss:', score[0])\n",
    "print('Test accuracy:', score[1])\n",
    "nb_epoch=12\n",
    "fig,ax = plt.subplots(1,1)\n",
    "ax.set_xlabel('epoch') \n",
    "ax.set_ylabel('Categorical Crossentropy Loss')\n",
    "\n",
    "# list of epoch numbers\n",
    "x = list(range(1,nb_epoch+1))\n",
    "vy = history.history['val_loss']\n",
    "ty = history.history['loss']\n",
    "plt_dynamic(x, vy, ty, ax)"
   ]
  },
  {
   "cell_type": "markdown",
   "metadata": {
    "colab_type": "text",
    "id": "imuJrXCorC-o"
   },
   "source": [
    "# Conclusion:"
   ]
  },
  {
   "cell_type": "code",
   "execution_count": 0,
   "metadata": {
    "colab": {
     "base_uri": "https://localhost:8080/",
     "height": 153
    },
    "colab_type": "code",
    "id": "mIDeoj6fXBSk",
    "outputId": "bb129ff8-d5aa-48a1-a08e-c00c47cea790"
   },
   "outputs": [
    {
     "name": "stdout",
     "output_type": "stream",
     "text": [
      "+------------------------------------------------+------------+---------+\n",
      "|         Models with number of kernels          | accuracy % | score % |\n",
      "+------------------------------------------------+------------+---------+\n",
      "|                       2                        |   0.9915   | 0.02594 |\n",
      "|                       5                        |   0.9898   |  0.0374 |\n",
      "|                       7                        |   0.2018   |  12.824 |\n",
      "| 7(with different activations and initializers) |   0.0974   | 14.5487 |\n",
      "+------------------------------------------------+------------+---------+\n"
     ]
    }
   ],
   "source": [
    "from prettytable import PrettyTable\n",
    "x=PrettyTable()\n",
    "x = PrettyTable([\"Models with number of kernels\", \"accuracy %\", \"score %\"])\n",
    "x.add_row(['2','0.9915','0.02594'])\n",
    "x.add_row(['5','0.9898','0.0374'])\n",
    "x.add_row(['7','0.2018','12.824'])\n",
    "x.add_row(['7(with different activations and initializers)','0.0974','14.5487'])\n",
    "print(x)"
   ]
  },
  {
   "cell_type": "code",
   "execution_count": 0,
   "metadata": {
    "colab": {},
    "colab_type": "code",
    "id": "-9TANZbOq5yD"
   },
   "outputs": [],
   "source": []
  }
 ],
 "metadata": {
  "accelerator": "GPU",
  "colab": {
   "collapsed_sections": [],
   "name": "CNN_MNIST.ipynb",
   "provenance": []
  },
  "kernelspec": {
   "display_name": "Python 3",
   "language": "python",
   "name": "python3"
  },
  "language_info": {
   "codemirror_mode": {
    "name": "ipython",
    "version": 3
   },
   "file_extension": ".py",
   "mimetype": "text/x-python",
   "name": "python",
   "nbconvert_exporter": "python",
   "pygments_lexer": "ipython3",
   "version": "3.7.3"
  }
 },
 "nbformat": 4,
 "nbformat_minor": 1
}
